{
 "cells": [
  {
   "cell_type": "markdown",
   "metadata": {},
   "source": [
    "# Welcome to Distrubuted Computing\n",
    "\n",
    "<img src=\"../images/dask_horizontal.svg\" align=\"right\" width=\"30%\" alt=\"Dask logo\">\n",
    "\n",
    "In this training, we will be using Dask to help highlight the core concepts of distributed computing.\n",
    "\n",
    "Dask is a parallel and distributed computing library that scales the existing Python and PyData ecosystem."
   ]
  },
  {
   "cell_type": "markdown",
   "metadata": {},
   "source": [
    "## What is a Cluster?\n",
    "\n",
    "A cluster used for distributed computing consists of three main components: the client, scheduler, and worker.\n",
    "The client is responsible for submitting tasks or jobs to the cluster.\n",
    "The scheduler, also known as the resource manager, is in charge of allocating resources and scheduling tasks across the cluster.\n",
    "It ensures that the workload is distributed efficiently and optimally.\n",
    "The worker nodes, on the other hand, are the actual computing units that execute the tasks assigned to them by the scheduler.\n",
    "They are what actaully performs the computation.\n",
    "Together, these components work in harmony to enable parallel processing and efficient utilization of resources in a distributed computing environment.\n",
    "\n",
    "<center>\n",
    "<img src=\"../images/distributed-overview.png\" width=\"75%\" alt=\"Distributed overview\">\n",
    "</center>"
   ]
  },
  {
   "cell_type": "markdown",
   "metadata": {},
   "source": [
    "## Distributed Computing Secret: Its Moslty Scheduling\n",
    "\n",
    "Scheduling plays a crucial role in distributed computing by efficiently allocating resources and managing tasks across a network of interconnected computers.\n",
    "It ensures that computational workloads are distributed evenly, maximizing the utilization of available resources and minimizing idle time.\n",
    "Scheduling algorithms consider factors such as task priority, resource availability, and network conditions to determine the most optimal allocation of tasks to different nodes in the system.\n",
    "By effectively managing the scheduling of tasks, distributed computing systems can achieve improved performance, scalability, and fault tolerance, enabling the execution of complex and resource-intensive applications across a distributed environment.\n",
    "\n",
    "![Scheduling Example](../images/grid_search_schedule.gif)"
   ]
  },
  {
   "cell_type": "markdown",
   "metadata": {},
   "source": [
    "## Lazy Evaluation\n",
    "\n",
    "<img src=\"../images/maxresdefault.jpg\" align=\"right\">\n",
    "\n",
    "Lazy evaluation is a programming technique that delays the evaluation of an expression until its value is actually needed.\n",
    "Instead of immediately computing the result of an expression, lazy evaluation defers the evaluation until the value is required for further computation or output.\n",
    "This approach can be beneficial in scenarios where the evaluation of an expression is time-consuming or resource-intensive.\n",
    "By deferring the evaluation, lazy evaluation can help optimize performance and improve efficiency by avoiding unnecessary computations.\n",
    "It allows for more efficient memory usage as well, as only the necessary values are computed and stored.\n",
    "Lazy evaluation is commonly used in distribluted computing and can be particularly useful when dealing with dataset that do not fit on one server.\n"
   ]
  },
  {
   "cell_type": "markdown",
   "metadata": {},
   "source": [
    "## DAG\n",
    "\n",
    "A Directed Acyclic Graph (DAG) is a data structure that represents a collection of tasks or operations, where each task is represented as a node and the dependencies between tasks are represented as directed edges.\n",
    "The key characteristic of a DAG is that it cannot contain any cycles, meaning there are no loops or circular dependencies between tasks.\n",
    "DAGs are commonly used in various domains, such as task scheduling, dependency management, and data processing.\n",
    "They provide a visual representation of the order in which tasks need to be executed, allowing for efficient parallelization and optimization of workflows.\n",
    "DAGs enable the identification of dependencies and facilitate the efficient execution of tasks by ensuring that all dependencies are satisfied before a task is executed.\n",
    "\n",
    "![Lazy Evaluation Example](../images/01_dataframe_31_0.png)\n"
   ]
  }
 ],
 "metadata": {
  "anaconda-cloud": {},
  "kernelspec": {
   "display_name": "Python 3 (ipykernel)",
   "language": "python",
   "name": "python3"
  },
  "language_info": {
   "codemirror_mode": {
    "name": "ipython",
    "version": 3
   },
   "file_extension": ".py",
   "mimetype": "text/x-python",
   "name": "python",
   "nbconvert_exporter": "python",
   "pygments_lexer": "ipython3",
   "version": "3.12.1"
  }
 },
 "nbformat": 4,
 "nbformat_minor": 4
}
